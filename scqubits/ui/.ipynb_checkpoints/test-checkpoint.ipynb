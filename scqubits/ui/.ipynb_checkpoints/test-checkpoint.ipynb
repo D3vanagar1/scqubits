{
 "cells": [
  {
   "cell_type": "code",
   "execution_count": 1,
   "metadata": {},
   "outputs": [],
   "source": [
    "%matplotlib widget\n",
    "\n",
    "import scqubits as scq\n",
    "import gui_v2 as gui\n"
   ]
  },
  {
   "cell_type": "code",
   "execution_count": 2,
   "metadata": {
    "scrolled": false
   },
   "outputs": [
    {
     "data": {
      "application/vnd.jupyter.widget-view+json": {
       "model_id": "0749721e59bc4531ac0fc1d80ff97bf2",
       "version_major": 2,
       "version_minor": 0
      },
      "text/plain": [
       "VBox(children=(HBox(children=(ToggleButtons(description='Qubits:', options=('Transmon', 'TunableTransmon', 'Fl…"
      ]
     },
     "metadata": {},
     "output_type": "display_data"
    },
    {
     "data": {
      "application/vnd.jupyter.widget-view+json": {
       "model_id": "0e10484c080d42cab581afcb927350ca",
       "version_major": 2,
       "version_minor": 0
      },
      "text/plain": [
       "Tab(children=(HBox(children=(VBox(children=(Dropdown(description='Scan over', index=2, layout=Layout(width='30…"
      ]
     },
     "metadata": {},
     "output_type": "display_data"
    },
    {
     "data": {
      "application/vnd.jupyter.widget-view+json": {
       "model_id": "138abdfee554425d8a52aaad2d076b07",
       "version_major": 2,
       "version_minor": 0
      },
      "text/plain": [
       "HBox(children=(Checkbox(value=False, description='Manual Update', indent=False), Button(description='Update', …"
      ]
     },
     "metadata": {},
     "output_type": "display_data"
    },
    {
     "data": {
      "application/vnd.jupyter.widget-view+json": {
       "model_id": "7f981d6463554928874c0c5a43947603",
       "version_major": 2,
       "version_minor": 0
      },
      "text/plain": [
       "Output(layout=Layout(height='500px', width='975px'))"
      ]
     },
     "metadata": {},
     "output_type": "display_data"
    }
   ],
   "source": [
    "test = gui.GUI_V2()"
   ]
  },
  {
   "cell_type": "code",
   "execution_count": 3,
   "metadata": {},
   "outputs": [
    {
     "name": "stdout",
     "output_type": "stream",
     "text": [
      "VBox(children=(Dropdown(description='Scan over', index=2, layout=Layout(width='300px'), options=('EJ', 'EC', 'ng'), value='ng'), FloatRangeSlider(value=(0.0, 1.0), continuous_update=False, description='ng range', layout=Layout(width='300px'), max=1.0, step=0.05), Checkbox(value=False, description='Subtract E₀'), IntSlider(value=7, continuous_update=False, description='Highest state', layout=Layout(width='300px'), max=10, min=1)), layout=Layout(object_fit='contain', width='50%'))\n"
     ]
    }
   ],
   "source": [
    "test.tab_widget.children[0].children[0] = ()"
   ]
  },
  {
   "cell_type": "code",
   "execution_count": 4,
   "metadata": {},
   "outputs": [],
   "source": [
    "import ipywidgets as widgets"
   ]
  },
  {
   "cell_type": "code",
   "execution_count": 12,
   "metadata": {},
   "outputs": [],
   "source": [
    "tab_widget = widgets.Tab()\n",
    "\n",
    "test_HBox= widgets.HBox()\n",
    "tab_titles = [\"Qubit Plot\", \"Ranges\", \"Qubit Info\"]\n",
    "tab_widget.children = [test_HBox, widgets.HBox(), widgets.HBox()]\n",
    "\n",
    "for title_index in range(len(tab_widget.children)):\n",
    "    tab_widget.set_title(title_index, tab_titles[title_index])"
   ]
  },
  {
   "cell_type": "code",
   "execution_count": 13,
   "metadata": {},
   "outputs": [
    {
     "data": {
      "application/vnd.jupyter.widget-view+json": {
       "model_id": "d3f253b01f20493cbd2470fdf6d54e0d",
       "version_major": 2,
       "version_minor": 0
      },
      "text/plain": [
       "Tab(children=(HBox(), HBox(), HBox()), _titles={'0': 'Qubit Plot', '1': 'Ranges', '2': 'Qubit Info'})"
      ]
     },
     "metadata": {},
     "output_type": "display_data"
    }
   ],
   "source": [
    "tab_widget"
   ]
  },
  {
   "cell_type": "code",
   "execution_count": 18,
   "metadata": {},
   "outputs": [],
   "source": [
    "test_HBox.layout = widgets.Layout(height='100px')"
   ]
  },
  {
   "cell_type": "code",
   "execution_count": 30,
   "metadata": {},
   "outputs": [
    {
     "data": {
      "application/vnd.jupyter.widget-view+json": {
       "model_id": "31ddc92db51a48a290d01ac536bd5916",
       "version_major": 2,
       "version_minor": 0
      },
      "text/plain": [
       "Output()"
      ]
     },
     "metadata": {},
     "output_type": "display_data"
    }
   ],
   "source": [
    "out = widgets.Output()\n",
    "\n",
    "out"
   ]
  },
  {
   "cell_type": "code",
   "execution_count": 26,
   "metadata": {},
   "outputs": [
    {
     "data": {
      "application/vnd.jupyter.widget-view+json": {
       "model_id": "2061dbac8c2a4c1686980517c2a4d4fa",
       "version_major": 2,
       "version_minor": 0
      },
      "text/plain": [
       "Layout()"
      ]
     },
     "metadata": {},
     "output_type": "display_data"
    }
   ],
   "source": []
  },
  {
   "cell_type": "code",
   "execution_count": null,
   "metadata": {},
   "outputs": [],
   "source": []
  }
 ],
 "metadata": {
  "interpreter": {
   "hash": "857b2b6bdbee2871d3f2bcf74449968dd9eaf2d85fcef563fc51e4452a59bad9"
  },
  "kernelspec": {
   "display_name": "Python 3 (ipykernel)",
   "language": "python",
   "name": "python3"
  },
  "language_info": {
   "codemirror_mode": {
    "name": "ipython",
    "version": 3
   },
   "file_extension": ".py",
   "mimetype": "text/x-python",
   "name": "python",
   "nbconvert_exporter": "python",
   "pygments_lexer": "ipython3",
   "version": "3.8.13"
  }
 },
 "nbformat": 4,
 "nbformat_minor": 2
}
