{
 "cells": [
  {
   "cell_type": "code",
   "execution_count": 1,
   "metadata": {},
   "outputs": [],
   "source": [
    "%matplotlib widget\n",
    "\n",
    "import scqubits as scq\n",
    "import gui_v2 as gui\n"
   ]
  },
  {
   "cell_type": "code",
   "execution_count": 2,
   "metadata": {
    "scrolled": false
   },
   "outputs": [
    {
     "data": {
      "application/vnd.jupyter.widget-view+json": {
       "model_id": "ce9f0cce2b894bfe9d49dd3bdaecadae",
       "version_major": 2,
       "version_minor": 0
      },
      "text/plain": [
       "VBox(children=(HBox(children=(ToggleButtons(description='Qubits:', options=('Transmon', 'TunableTransmon', 'Fl…"
      ]
     },
     "metadata": {},
     "output_type": "display_data"
    },
    {
     "data": {
      "application/vnd.jupyter.widget-view+json": {
       "model_id": "2fa8c5e1c1cd4264a27a97596b429b8e",
       "version_major": 2,
       "version_minor": 0
      },
      "text/plain": [
       "Tab(children=(HBox(children=(VBox(children=(Dropdown(description='Scan over', index=2, layout=Layout(width='30…"
      ]
     },
     "metadata": {},
     "output_type": "display_data"
    },
    {
     "data": {
      "application/vnd.jupyter.widget-view+json": {
       "model_id": "22f5f04b0416468197328aad6a28b931",
       "version_major": 2,
       "version_minor": 0
      },
      "text/plain": [
       "HBox(children=(Checkbox(value=False, description='Manual Update', indent=False), Button(description='Update', …"
      ]
     },
     "metadata": {},
     "output_type": "display_data"
    },
    {
     "data": {
      "application/vnd.jupyter.widget-view+json": {
       "model_id": "24f777787d8f4cbe9e479a75871d57ad",
       "version_major": 2,
       "version_minor": 0
      },
      "text/plain": [
       "Output(layout=Layout(height='500px', width='975px'))"
      ]
     },
     "metadata": {},
     "output_type": "display_data"
    }
   ],
   "source": [
    "test = gui.GUI_V2()"
   ]
  },
  {
   "cell_type": "code",
   "execution_count": 3,
   "metadata": {},
   "outputs": [
    {
     "name": "stdout",
     "output_type": "stream",
     "text": [
      "VBox(children=(Dropdown(description='Scan over', index=2, layout=Layout(width='300px'), options=('EJ', 'EC', 'ng'), value='ng'), FloatRangeSlider(value=(0.0, 1.0), continuous_update=False, description='ng range', layout=Layout(width='300px'), max=1.0, step=0.05), Checkbox(value=False, description='Subtract E₀'), IntSlider(value=7, continuous_update=False, description='Highest state', layout=Layout(width='300px'), max=10, min=1)), layout=Layout(object_fit='contain', width='50%'))\n"
     ]
    }
   ],
   "source": [
    "test.tab_widget.children[0].children[0] = ()"
   ]
  },
  {
   "cell_type": "code",
   "execution_count": null,
   "metadata": {},
   "outputs": [],
   "source": []
  }
 ],
 "metadata": {
  "interpreter": {
   "hash": "857b2b6bdbee2871d3f2bcf74449968dd9eaf2d85fcef563fc51e4452a59bad9"
  },
  "kernelspec": {
   "display_name": "Python 3 (ipykernel)",
   "language": "python",
   "name": "python3"
  },
  "language_info": {
   "codemirror_mode": {
    "name": "ipython",
    "version": 3
   },
   "file_extension": ".py",
   "mimetype": "text/x-python",
   "name": "python",
   "nbconvert_exporter": "python",
   "pygments_lexer": "ipython3",
   "version": "3.8.13"
  }
 },
 "nbformat": 4,
 "nbformat_minor": 2
}
