{
 "cells": [
  {
   "cell_type": "code",
   "execution_count": 1,
   "metadata": {},
   "outputs": [],
   "source": [
    "%matplotlib widget\n",
    "\n",
    "import scqubits as scq\n",
    "import gui_refactored as gui"
   ]
  },
  {
   "cell_type": "code",
   "execution_count": 2,
   "metadata": {
    "scrolled": false
   },
   "outputs": [
    {
     "data": {
      "application/vnd.jupyter.widget-view+json": {
       "model_id": "3719365191114007a698f61d268ebccb",
       "version_major": 2,
       "version_minor": 0
      },
      "text/plain": [
       "VBox(children=(HBox(children=(ToggleButtons(description='Qubits:', layout=Layout(width='800px'), options=('Tra…"
      ]
     },
     "metadata": {},
     "output_type": "display_data"
    },
    {
     "data": {
      "application/vnd.jupyter.widget-view+json": {
       "model_id": "2f5872787d9c45d2b913813844f8655e",
       "version_major": 2,
       "version_minor": 0
      },
      "text/plain": [
       "Tab(children=(HBox(children=(VBox(children=(Dropdown(description='Scan over', index=2, layout=Layout(width='30…"
      ]
     },
     "metadata": {},
     "output_type": "display_data"
    },
    {
     "data": {
      "application/vnd.jupyter.widget-view+json": {
       "model_id": "a6c8cbd2e3664b289ccdb483a193b00a",
       "version_major": 2,
       "version_minor": 0
      },
      "text/plain": [
       "Output()"
      ]
     },
     "metadata": {},
     "output_type": "display_data"
    },
    {
     "name": "stdout",
     "output_type": "stream",
     "text": [
      "Hello\n"
     ]
    },
    {
     "data": {
      "text/plain": []
     },
     "execution_count": 2,
     "metadata": {},
     "output_type": "execute_result"
    },
    {
     "name": "stdout",
     "output_type": "stream",
     "text": [
      "Hello\n",
      "Hello\n",
      "Hello\n",
      "Hello\n",
      "Hello\n",
      "Hello\n"
     ]
    }
   ],
   "source": [
    "gui.GUI_REFACTORED()"
   ]
  },
  {
   "cell_type": "code",
   "execution_count": 3,
   "metadata": {},
   "outputs": [
    {
     "data": {
      "application/vnd.jupyter.widget-view+json": {
       "model_id": "e3898c6660dc47b9b892fc547ac57a22",
       "version_major": 2,
       "version_minor": 0
      },
      "text/plain": [
       "Tab(children=(Label(value='Hello'), Label(value='Hello'), Label(value='Hello')), _titles={'0': 'Qubit Plot', '…"
      ]
     },
     "metadata": {},
     "output_type": "display_data"
    }
   ],
   "source": [
    "import ipywidgets as widgets\n",
    "\n",
    "tab = widgets.Tab()\n",
    "tab_titles = [\"Qubit Plot\", \"Change Plot Ranges\", \"Qubit Info\"]\n",
    "tab.children = [widgets.Label(value=\"Hello\"), widgets.Label(value=\"Hello\"), widgets.Label(value=\"Hello\")]\n",
    "for i in range(len(tab.children)):\n",
    "    tab.set_title(i, tab_titles[i])\n",
    "\n",
    "display(tab)"
   ]
  },
  {
   "cell_type": "code",
   "execution_count": 5,
   "metadata": {},
   "outputs": [
    {
     "data": {
      "text/plain": [
       "<module 'gui_refactored' from 'C:\\\\Users\\\\sujoj\\\\GitHub\\\\scqubits\\\\scqubits\\\\ui\\\\gui_refactored.py'>"
      ]
     },
     "execution_count": 5,
     "metadata": {},
     "output_type": "execute_result"
    }
   ],
   "source": []
  },
  {
   "cell_type": "code",
   "execution_count": 5,
   "metadata": {},
   "outputs": [],
   "source": [
    "tab_list = list(tab.children)\n",
    "tab_list[0] = widgets.Label(value=\"Test\")\n",
    "\n",
    "tab.children = tuple(tab_list)"
   ]
  },
  {
   "cell_type": "code",
   "execution_count": 7,
   "metadata": {
    "scrolled": false
   },
   "outputs": [
    {
     "data": {
      "application/vnd.jupyter.widget-view+json": {
       "model_id": "4d9c3223afdc4131be87769d84b969ff",
       "version_major": 2,
       "version_minor": 0
      },
      "text/plain": [
       "VBox(children=(FloatSlider(value=7.5, continuous_update=False, description='a:', max=10.0, readout_format='.1f…"
      ]
     },
     "metadata": {},
     "output_type": "display_data"
    },
    {
     "data": {
      "application/vnd.jupyter.widget-view+json": {
       "model_id": "a617f96166c14944bdc9831335285b4e",
       "version_major": 2,
       "version_minor": 0
      },
      "text/plain": [
       "Output(layout=Layout(height='700px'))"
      ]
     },
     "metadata": {},
     "output_type": "display_data"
    },
    {
     "name": "stdout",
     "output_type": "stream",
     "text": [
      "{'name': 'value', 'old': 7.5, 'new': 4.2, 'owner': FloatSlider(value=4.2, continuous_update=False, description='a:', max=10.0, readout_format='.1f'), 'type': 'change'}\n",
      "{'name': 'value', 'old': 4.2, 'new': 8.4, 'owner': FloatSlider(value=8.4, continuous_update=False, description='a:', max=10.0, readout_format='.1f'), 'type': 'change'}\n",
      "{'name': '_property_lock', 'old': traitlets.Undefined, 'new': {'value': 4.1}, 'owner': FloatSlider(value=7.5, continuous_update=False, description='b:', max=10.0), 'type': 'change'}\n",
      "{'name': 'value', 'old': 7.5, 'new': 4.1, 'owner': FloatSlider(value=4.1, continuous_update=False, description='b:', max=10.0), 'type': 'change'}\n",
      "{'name': '_property_lock', 'old': {'value': 4.1}, 'new': {}, 'owner': FloatSlider(value=4.1, continuous_update=False, description='b:', max=10.0), 'type': 'change'}\n",
      "{'name': '_property_lock', 'old': {}, 'new': {'value': 6.1}, 'owner': FloatSlider(value=4.1, continuous_update=False, description='b:', max=10.0), 'type': 'change'}\n",
      "{'name': 'value', 'old': 4.1, 'new': 6.1, 'owner': FloatSlider(value=6.1, continuous_update=False, description='b:', max=10.0), 'type': 'change'}\n",
      "{'name': '_property_lock', 'old': {'value': 6.1}, 'new': {}, 'owner': FloatSlider(value=6.1, continuous_update=False, description='b:', max=10.0), 'type': 'change'}\n"
     ]
    }
   ],
   "source": [
    "import ipywidgets as widgets\n",
    "import numpy as np\n",
    "import matplotlib.pyplot as plt\n",
    "%matplotlib widget\n",
    "\n",
    "x = np.linspace(0, 2 * np.pi, 500)\n",
    "\n",
    "def update(a = 7.5, b = 7.5):\n",
    "    with out:\n",
    "        plt.cla()\n",
    "        plt.plot(x, a*np.sin(b * x))\n",
    "        out.clear_output()\n",
    "        plt.show()\n",
    "    \n",
    "\n",
    "def update_plot(change):\n",
    "    value_dict = {'a': testSlider1.get_interact_value(), 'b': testSlider2.get_interact_value()}\n",
    "    print(change)\n",
    "    update(**value_dict)\n",
    "\n",
    "out = widgets.Output(layout = widgets.Layout(height = '700px'))\n",
    "\n",
    "testSlider1 = widgets.FloatSlider(\n",
    "    value=7.5,\n",
    "    min=0,\n",
    "    max=10.0,\n",
    "    step=0.1,\n",
    "    description='a:',\n",
    "    disabled=False,\n",
    "    continuous_update=False,\n",
    "    orientation='horizontal',\n",
    "    readout=True,\n",
    "    readout_format='.1f',\n",
    ")\n",
    "testSlider2 = widgets.FloatSlider(\n",
    "    value=7.5,\n",
    "    min=0,\n",
    "    max=10.0,\n",
    "    step=0.1,\n",
    "    description='b:',\n",
    "    disabled=False,\n",
    "    continuous_update=False,\n",
    "    orientation='horizontal',\n",
    ")\n",
    "testBox = widgets.VBox([testSlider1, testSlider2])\n",
    "\n",
    "list(testBox.children)[0].observe(update_plot, names=\"value\")\n",
    "list(testBox.children)[1].observe(update_plot)\n",
    "\n",
    "update()\n",
    "display(testBox,out)"
   ]
  },
  {
   "cell_type": "code",
   "execution_count": 2,
   "metadata": {},
   "outputs": [],
   "source": [
    "list(testBox.children)[1].unobserve(update_plot)"
   ]
  },
  {
   "cell_type": "code",
   "execution_count": 6,
   "metadata": {},
   "outputs": [],
   "source": [
    "out = widgets.Output()\n",
    "\n",
    "testSlider1 = widgets.FloatSlider(\n",
    "    value=7.5,\n",
    "    min=0,\n",
    "    max=10.0,\n",
    "    step=0.1,\n",
    "    description='Test1:',\n",
    "    disabled=False,\n",
    "    continuous_update=False,\n",
    "    orientation='horizontal',\n",
    "    readout=True,\n",
    "    readout_format='.1f',\n",
    ")\n",
    "testSlider2 = widgets.FloatSlider(\n",
    "    value=7.5,\n",
    "    min=0,\n",
    "    max=10.0,\n",
    "    step=0.1,\n",
    "    description='Test2:',\n",
    "    disabled=False,\n",
    "    continuous_update=False,\n",
    "    orientation='horizontal',\n",
    ")\n",
    "\n",
    "testBox = widgets.VBox([testSlider1, testSlider2])\n",
    "\n",
    "def event(change):\n",
    "    with out:\n",
    "        print(change['owner'])\n",
    "\n",
    "list(testBox.children)[0].observe(event)\n",
    "list(testBox.children)[1].observe(event)\n",
    "\n"
   ]
  },
  {
   "cell_type": "code",
   "execution_count": null,
   "metadata": {},
   "outputs": [],
   "source": [
    "\n",
    "display(testBox, out)"
   ]
  },
  {
   "cell_type": "code",
   "execution_count": 10,
   "metadata": {},
   "outputs": [
    {
     "data": {
      "text/plain": [
       "[FloatSlider(value=6.8, continuous_update=False, description='Test:', max=10.0, readout_format='.1f'),\n",
       " FloatSlider(value=3.9, continuous_update=False, description='Test:', max=10.0, readout_format='.1f')]"
      ]
     },
     "execution_count": 10,
     "metadata": {},
     "output_type": "execute_result"
    }
   ],
   "source": [
    "list(testBox.children)[0].observe(update)"
   ]
  },
  {
   "cell_type": "code",
   "execution_count": 16,
   "metadata": {},
   "outputs": [
    {
     "data": {
      "text/plain": [
       "5.3"
      ]
     },
     "execution_count": 16,
     "metadata": {},
     "output_type": "execute_result"
    }
   ],
   "source": [
    "testSlider1.get_interact_value()"
   ]
  },
  {
   "cell_type": "code",
   "execution_count": 23,
   "metadata": {},
   "outputs": [
    {
     "data": {
      "application/vnd.jupyter.widget-view+json": {
       "model_id": "ad2eebe3b4ce4645980559e7161847ab",
       "version_major": 2,
       "version_minor": 0
      },
      "image/png": "[encoded data removed]",
      "text/html": [
       "\n",
       "            <div style=\"display: inline-block;\">\n",
       "                <div class=\"jupyter-widgets widget-label\" style=\"text-align: center;\">\n",
       "                    Figure\n",
       "                </div>\n",
       "                <img src='data:image/png;base64,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' width=960.0/>\n",
       "            </div>\n",
       "        "
      ],
      "text/plain": [
       "Canvas(toolbar=Toolbar(toolitems=[('Home', 'Reset original view', 'home', 'home'), ('Back', 'Back to previous …"
      ]
     },
     "metadata": {},
     "output_type": "display_data"
    },
    {
     "data": {
      "application/vnd.jupyter.widget-view+json": {
       "model_id": "5a3a3a4146424eeabe3d15ec9e669920",
       "version_major": 2,
       "version_minor": 0
      },
      "text/plain": [
       "VBox(children=(HBox(children=(ToggleButtons(description='Qubits:', layout=Layout(width='800px'), options=('Tra…"
      ]
     },
     "metadata": {},
     "output_type": "display_data"
    },
    {
     "data": {
      "application/vnd.jupyter.widget-view+json": {
       "model_id": "8fdf1971baa64120a57fddac343d185e",
       "version_major": 2,
       "version_minor": 0
      },
      "text/plain": [
       "Output(layout=Layout(width='975px'))"
      ]
     },
     "metadata": {},
     "output_type": "display_data"
    },
    {
     "data": {
      "text/plain": []
     },
     "execution_count": 23,
     "metadata": {},
     "output_type": "execute_result"
    }
   ],
   "source": [
    "scq.GUI()"
   ]
  },
  {
   "cell_type": "code",
   "execution_count": null,
   "metadata": {},
   "outputs": [],
   "source": []
  }
 ],
 "metadata": {
  "interpreter": {
   "hash": "857b2b6bdbee2871d3f2bcf74449968dd9eaf2d85fcef563fc51e4452a59bad9"
  },
  "kernelspec": {
   "display_name": "Python 3 (ipykernel)",
   "language": "python",
   "name": "python3"
  },
  "language_info": {
   "codemirror_mode": {
    "name": "ipython",
    "version": 3
   },
   "file_extension": ".py",
   "mimetype": "text/x-python",
   "name": "python",
   "nbconvert_exporter": "python",
   "pygments_lexer": "ipython3",
   "version": "3.8.13"
  }
 },
 "nbformat": 4,
 "nbformat_minor": 2
}
