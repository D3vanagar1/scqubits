{
 "cells": [
  {
   "cell_type": "markdown",
   "id": "logical-setup",
   "metadata": {},
   "source": [
    "# Giving a custom circuit as an input\n",
    "\n",
    "A general circuit can be defined as an input file or an input string. This notebook shows how to use this tool for a Fluxonium circuit, the same procedure can be used to analyze any general circuit.\n",
    "\n",
    "The following input file can be used for a Fluxonium qubit. This is, for example, stored in `fluxonium_sym.inp` text file.\n",
    "```\n",
    "nodes: 2\n",
    "branches:\n",
    "JJ\t1,2\tEj\tEcj\n",
    "L\t1,2\tEl\n",
    "C\t1,2\tEc\n",
    "```\n",
    "Do note that the program is still in the early stages and the input method is particular about following the format exactly. Make sure to not include any empty lines or innecessary characters, else the code may not function properly. The circuit can be imported to make an object using the command:\n",
    "\n",
    "The above input can also be given in the form of a string using the method `from_input_string`. The input strings for the following qubits is provided at `scqubits.core.analyzeqcircuit`.\n",
    "- Transmon : `transmon`\n",
    "- Fluxonium: `fluxonium`\n",
    "- Cos2Phi : `cos2phi`\n",
    "- Zero-Pi : `zero_pi`\n",
    "\n",
    "They can be imported using the function `example_circuit`."
   ]
  },
  {
   "cell_type": "code",
   "execution_count": 1,
   "id": "f92d8273",
   "metadata": {},
   "outputs": [],
   "source": [
    "import numpy as np\n",
    "import scqubits as scq\n",
    "from scqubits.core.analyzeqcircuit import example_circuit"
   ]
  },
  {
   "cell_type": "code",
   "execution_count": 2,
   "id": "b752b4bf",
   "metadata": {},
   "outputs": [],
   "source": [
    "# fluxonium = scq.AnalyzeQCircuit.from_input_string(example_circuit(\"fluxonium\"))\n",
    "fluxonium = scq.AnalyzeQCircuit.from_input_file(\"fluxonium_sym.inp\")"
   ]
  },
  {
   "cell_type": "markdown",
   "id": "a5338350",
   "metadata": {},
   "source": [
    "AnalyzeQCircuit object is initiated using the keyword `mode` which is set to `\"sym\"` by default, which assumes that the parameters of the branches in the input file or string are symbol names. when `mode` is set to `\"num\"`, the code looks for numeric values to the parameters. This is particularly important when the circuit is large (having more than 6 nodes or a relatively large number of branches) as the symbolic computation can get heavy, which can be avoided by providing the numerical parameters directly. For the same, make an input file `fluxonium_num.inp` in the following way:\n",
    "```\n",
    "nodes: 2\n",
    "branches:\n",
    "JJ\t1,2\t10\t5\n",
    "L\t1,2\t5\n",
    "C\t1,2\t2\n",
    "```\n",
    "\n",
    "and the AnalyzeQCircuit can be initiate using the following command.\n",
    "```\n",
    "fluxonium = scq.AnalyzeQCircuit.from_input_file(\"fluxonium_num.inp\", mode = \"num\")\n",
    "```\n",
    "\n",
    "The methods used to compute eigen values and parameter sweeps are identical."
   ]
  },
  {
   "cell_type": "code",
   "execution_count": 3,
   "id": "ad27a113",
   "metadata": {},
   "outputs": [
    {
     "data": {
      "text/latex": [
       "$\\displaystyle - Ej \\cos{\\left(Φ_{1} - 1.0 θ_{1} \\right)} + 0.5 El θ_{1}^{2}$"
      ],
      "text/plain": [
       "-Ej*cos(Φ1 - 1.0*θ1) + 0.5*El*θ1**2"
      ]
     },
     "execution_count": 3,
     "metadata": {},
     "output_type": "execute_result"
    }
   ],
   "source": [
    "fluxonium.potential"
   ]
  },
  {
   "cell_type": "code",
   "execution_count": 4,
   "id": "narrative-official",
   "metadata": {},
   "outputs": [],
   "source": [
    "# fluxonium = scq.AnalyzeQCircuit.from_input_file(\"fluxonium_sym.inp\")\n",
    "fluxonium = scq.AnalyzeQCircuit.from_input_string(example_circuit(\"fluxonium\"))"
   ]
  },
  {
   "cell_type": "markdown",
   "id": "previous-disability",
   "metadata": {},
   "source": [
    "The AnalyzeQCircuit object automatically initializes some functions which do the following:\n",
    "- Find all the cyclic and periodic variables of the circuit and make a variable transformation to a new set of generalized flux variables.\n",
    "- Identify the independent loops in the circuit and automatically assign an external flux variable to one of the branches in the superconducting loops found.\n",
    "- Compute the Lagrangian and Hamiltonian in terms of the new variables.\n",
    "\n",
    "The computed properties of the circuit can be accessed using the following attributes."
   ]
  },
  {
   "cell_type": "code",
   "execution_count": 5,
   "id": "developed-cathedral",
   "metadata": {},
   "outputs": [
    {
     "data": {
      "text/latex": [
       "$\\displaystyle 0.5 C_{1} vθ_{1}^{2} + 0.5 C_{2} vθ_{1}^{2} + Ej \\cos{\\left(Φ_{1} - 1.0 θ_{1} \\right)} - 0.5 El θ_{1}^{2}$"
      ],
      "text/plain": [
       "0.5*C1*vθ1**2 + 0.5*C2*vθ1**2 + Ej*cos(Φ1 - 1.0*θ1) - 0.5*El*θ1**2"
      ]
     },
     "execution_count": 5,
     "metadata": {},
     "output_type": "execute_result"
    }
   ],
   "source": [
    "fluxonium.L # Lagrangian"
   ]
  },
  {
   "cell_type": "code",
   "execution_count": 6,
   "id": "2cc7ab1d",
   "metadata": {},
   "outputs": [
    {
     "data": {
      "text/latex": [
       "$\\displaystyle - Ej \\cos{\\left(Φ_{1} - 1.0 θ_{1} \\right)} + 0.5 El θ_{1}^{2} + \\frac{0.5 Q_{1}^{2}}{\\frac{0.125}{Ecj} + \\frac{0.125}{Ec}}$"
      ],
      "text/plain": [
       "-Ej*cos(Φ1 - 1.0*θ1) + 0.5*El*θ1**2 + 0.5*Q1**2/(0.125/Ecj + 0.125/Ec)"
      ]
     },
     "execution_count": 6,
     "metadata": {},
     "output_type": "execute_result"
    }
   ],
   "source": [
    "fluxonium.H.expand() # Hamiltonian"
   ]
  },
  {
   "cell_type": "code",
   "execution_count": 7,
   "id": "excess-vegetable",
   "metadata": {},
   "outputs": [
    {
     "data": {
      "text/plain": [
       "[Φ1]"
      ]
     },
     "execution_count": 7,
     "metadata": {},
     "output_type": "execute_result"
    }
   ],
   "source": [
    "fluxonium.external_flux_vars # shows the identified external flux variables in the circuit"
   ]
  },
  {
   "cell_type": "markdown",
   "id": "champion-ebony",
   "metadata": {},
   "source": [
    "# Setting the parameters\n",
    "\n",
    "The circuit paramaters are set using attributes. The attributes are automatically defined with default values for each of the paramater in `param_vars` and `external_flux_vars`.\n",
    "\n",
    "In this example, the paramaters can be set using `fluxonium.Ec`, `fluxonium.Ej` etc. and similarly for external flux `fluxonium.Φ1`."
   ]
  },
  {
   "cell_type": "code",
   "execution_count": 8,
   "id": "periodic-jenny",
   "metadata": {},
   "outputs": [
    {
     "data": {
      "text/plain": [
       "[Ec, El, Ej, Ecj]"
      ]
     },
     "execution_count": 8,
     "metadata": {},
     "output_type": "execute_result"
    }
   ],
   "source": [
    "fluxonium.param_vars # shows the independent symbols used to define the circuit parameters in the input file "
   ]
  },
  {
   "cell_type": "code",
   "execution_count": 9,
   "id": "descending-encoding",
   "metadata": {},
   "outputs": [
    {
     "name": "stdout",
     "output_type": "stream",
     "text": [
      "1.0\n"
     ]
    }
   ],
   "source": [
    "print(fluxonium.Ec) # default value when it is not set by the user\n",
    "fluxonium.Ec = 10 # setting the paramaters\n",
    "fluxonium.Ecj = 15000\n",
    "fluxonium.El = 2\n",
    "fluxonium.Φ1 = 3"
   ]
  },
  {
   "cell_type": "markdown",
   "id": "atmospheric-gardening",
   "metadata": {},
   "source": [
    "All the paramaters that are currently set can be seen at once using the method `get_params` and the external fluxes set using the method `get_external_flux`. Do note that the methods return a list of numbers which correspond to the symbols returned by the attributes `param_vars` and `external_flux_vars` "
   ]
  },
  {
   "cell_type": "code",
   "execution_count": 10,
   "id": "yellow-compromise",
   "metadata": {},
   "outputs": [
    {
     "name": "stdout",
     "output_type": "stream",
     "text": [
      "[10, 2, 1.0, 15000]\n",
      "[3]\n"
     ]
    }
   ],
   "source": [
    "print(fluxonium.get_params())\n",
    "print(fluxonium.get_external_flux())"
   ]
  },
  {
   "cell_type": "markdown",
   "id": "available-calibration",
   "metadata": {},
   "source": [
    "# Setting the cutoffs\n",
    "\n",
    "The cutoffs for the circuit should be set according to the type of the variable identified by the code. For example, for this circuit, the type of the identified variables in the Hamiltonian can be seen using the attribute `var_indices`. "
   ]
  },
  {
   "cell_type": "code",
   "execution_count": 11,
   "id": "atmospheric-christopher",
   "metadata": {},
   "outputs": [
    {
     "data": {
      "text/latex": [
       "$\\displaystyle - Ej \\cos{\\left(Φ_{1} - 1.0 θ_{1} \\right)} + 0.5 El θ_{1}^{2} + \\frac{0.5 Q_{1}^{2}}{\\frac{0.125}{Ecj} + \\frac{0.125}{Ec}}$"
      ],
      "text/plain": [
       "-Ej*cos(Φ1 - 1.0*θ1) + 0.5*El*θ1**2 + 0.5*Q1**2/(0.125/Ecj + 0.125/Ec)"
      ]
     },
     "execution_count": 11,
     "metadata": {},
     "output_type": "execute_result"
    }
   ],
   "source": [
    "fluxonium.H.expand()"
   ]
  },
  {
   "cell_type": "code",
   "execution_count": 12,
   "id": "dental-stephen",
   "metadata": {},
   "outputs": [
    {
     "data": {
      "text/plain": [
       "{'periodic': [], 'discretized_phi': [1], 'cyclic': [], 'zombie': []}"
      ]
     },
     "execution_count": 12,
     "metadata": {},
     "output_type": "execute_result"
    }
   ],
   "source": [
    "fluxonium.var_indices # shows the basis used for the index of the variable specified. In this case\n",
    "# the index 1 refers to all the variables with subscript 1."
   ]
  },
  {
   "cell_type": "markdown",
   "id": "limiting-difficulty",
   "metadata": {},
   "source": [
    "The cutoffs corresponding to the cyclic variables can be set using the attribute `cutoff_cyclic_i` where i is ith variable in the above dictionary of var_indices, similarly `cutoff_periodic_i` for periodic and `cutoff_discrete_i` for discretized phi variables. In this example, the cutoff can be set using:"
   ]
  },
  {
   "cell_type": "code",
   "execution_count": 24,
   "id": "entertaining-underwear",
   "metadata": {},
   "outputs": [],
   "source": [
    "fluxonium.cutoff_discrete_1 = 100"
   ]
  },
  {
   "cell_type": "markdown",
   "id": "friendly-shoulder",
   "metadata": {},
   "source": [
    "# Eigen values and parameter sweeps\n",
    "\n",
    "The eigen values can now be calculated using the method `eigenvals`."
   ]
  },
  {
   "cell_type": "code",
   "execution_count": 25,
   "id": "celtic-facing",
   "metadata": {},
   "outputs": [
    {
     "data": {
      "text/plain": [
       "array([ 6.10401249, 19.40766735, 31.68069898, 43.99603881, 56.61032529,\n",
       "       69.40742482])"
      ]
     },
     "execution_count": 25,
     "metadata": {},
     "output_type": "execute_result"
    }
   ],
   "source": [
    "fluxonium.eigenvals()"
   ]
  },
  {
   "cell_type": "markdown",
   "id": "compatible-hebrew",
   "metadata": {},
   "source": [
    "A parameter sweep can be plotted using the following command:"
   ]
  },
  {
   "cell_type": "code",
   "execution_count": 26,
   "id": "regular-fleece",
   "metadata": {},
   "outputs": [
    {
     "data": {
      "application/vnd.jupyter.widget-view+json": {
       "model_id": "",
       "version_major": 2,
       "version_minor": 0
      },
      "text/plain": [
       "Spectral data:   0%|          | 0/99 [00:00<?, ?it/s]"
      ]
     },
     "metadata": {},
     "output_type": "display_data"
    },
    {
     "data": {
      "text/plain": [
       "(<Figure size 432x288 with 1 Axes>,\n",
       " <AxesSubplot:xlabel='Ej', ylabel='energy [GHz]'>)"
      ]
     },
     "execution_count": 26,
     "metadata": {},
     "output_type": "execute_result"
    },
    {
     "data": {
      "image/png": "[encoded data removed]",
      "text/plain": [
       "<Figure size 432x288 with 1 Axes>"
      ]
     },
     "metadata": {
      "needs_background": "light"
     },
     "output_type": "display_data"
    }
   ],
   "source": [
    "fluxonium.plot_evals_vs_paramvals(\"Ej\", range(1,100), evals_count = 6)"
   ]
  },
  {
   "cell_type": "code",
   "execution_count": 27,
   "id": "constant-airport",
   "metadata": {},
   "outputs": [
    {
     "data": {
      "application/vnd.jupyter.widget-view+json": {
       "model_id": "",
       "version_major": 2,
       "version_minor": 0
      },
      "text/plain": [
       "Spectral data:   0%|          | 0/10 [00:00<?, ?it/s]"
      ]
     },
     "metadata": {},
     "output_type": "display_data"
    },
    {
     "data": {
      "text/plain": [
       "(<Figure size 432x288 with 1 Axes>,\n",
       " <AxesSubplot:xlabel='Φ1', ylabel='energy [GHz]'>)"
      ]
     },
     "execution_count": 27,
     "metadata": {},
     "output_type": "execute_result"
    },
    {
     "data": {
      "image/png": "[encoded data removed]",
      "text/plain": [
       "<Figure size 432x288 with 1 Axes>"
      ]
     },
     "metadata": {
      "needs_background": "light"
     },
     "output_type": "display_data"
    }
   ],
   "source": [
    "fluxonium.plot_evals_vs_paramvals(\"Φ1\", range(0,10), evals_count=8)"
   ]
  },
  {
   "cell_type": "markdown",
   "id": "saving-policy",
   "metadata": {},
   "source": [
    "# Plotting Energy Dispersion\n",
    "(Taken from https://scqubits.readthedocs.io/en/latest/guide/ipynb/basics.html)\n",
    "\n",
    "Plots of the energy dispersion, can be obtained easily:\n",
    "\n",
    "Do note that the dispersion can be calculated for any of the variables or operators in self.params or self.vars.\n",
    "\n",
    "either for individual energy levels:"
   ]
  },
  {
   "cell_type": "code",
   "execution_count": 28,
   "id": "8e88c41b",
   "metadata": {},
   "outputs": [],
   "source": [
    "fluxonium._id_str = fluxonium._autogenerate_id_str()"
   ]
  },
  {
   "cell_type": "code",
   "execution_count": 29,
   "id": "subject-invention",
   "metadata": {},
   "outputs": [
    {
     "data": {
      "application/vnd.jupyter.widget-view+json": {
       "model_id": "",
       "version_major": 2,
       "version_minor": 0
      },
      "text/plain": [
       "Bare spectra:   0%|          | 0/500 [00:00<?, ?it/s]"
      ]
     },
     "metadata": {},
     "output_type": "display_data"
    },
    {
     "data": {
      "text/plain": [
       "(<Figure size 432x288 with 1 Axes>,\n",
       " <AxesSubplot:xlabel='Ej/Ec', ylabel='energy dispersion [GHz]'>)"
      ]
     },
     "execution_count": 29,
     "metadata": {},
     "output_type": "execute_result"
    },
    {
     "data": {
      "image/png": "[encoded data removed]",
      "text/plain": [
       "<Figure size 432x288 with 1 Axes>"
      ]
     },
     "metadata": {
      "needs_background": "light"
     },
     "output_type": "display_data"
    }
   ],
   "source": [
    "import numpy as np\n",
    "fluxonium.plot_dispersion_vs_paramvals('Φ1', 'Ej', np.linspace(1,100,10), ref_param='Ec', levels=(0,1,2))"
   ]
  },
  {
   "cell_type": "markdown",
   "id": "tough-hardwood",
   "metadata": {},
   "source": [
    "Or for transition energies:"
   ]
  },
  {
   "cell_type": "code",
   "execution_count": 30,
   "id": "analyzed-techno",
   "metadata": {},
   "outputs": [
    {
     "data": {
      "application/vnd.jupyter.widget-view+json": {
       "model_id": "",
       "version_major": 2,
       "version_minor": 0
      },
      "text/plain": [
       "Bare spectra:   0%|          | 0/500 [00:00<?, ?it/s]"
      ]
     },
     "metadata": {},
     "output_type": "display_data"
    },
    {
     "data": {
      "text/plain": [
       "(<Figure size 432x288 with 1 Axes>,\n",
       " <AxesSubplot:xlabel='Ej/Ec', ylabel='energy dispersion [GHz]'>)"
      ]
     },
     "execution_count": 30,
     "metadata": {},
     "output_type": "execute_result"
    },
    {
     "data": {
      "image/png": "[encoded data removed]",
      "text/plain": [
       "<Figure size 432x288 with 1 Axes>"
      ]
     },
     "metadata": {
      "needs_background": "light"
     },
     "output_type": "display_data"
    }
   ],
   "source": [
    "fluxonium.plot_dispersion_vs_paramvals('Φ1', 'Ej', np.linspace(1,100,10), ref_param='Ec', transitions=(((0,1), (0,2))))"
   ]
  },
  {
   "cell_type": "markdown",
   "id": "southeast-pearl",
   "metadata": {},
   "source": [
    "# Internal variables for eigen value computation"
   ]
  },
  {
   "cell_type": "markdown",
   "id": "adopted-intensity",
   "metadata": {},
   "source": [
    "Internally, this Hamiltonian is converted by certain substitutions to make the computation of the eigenvalues easier. The operators generated are associated to the variables in the attribute `vars`.\n",
    "\n",
    "The `vars` attribute returns a list of three lists. The list is arranged in the following way:\n",
    "```\n",
    "[\n",
    "\n",
    "[cyclic variables: ni or charge operator],\n",
    "\n",
    "[periodic variables: [sin(yi): sin of the operator in charge basis], [cos(yi): cosine of the operator in charge basis], [ni: charge operator]],\n",
    "\n",
    "[discretized_phi variables: [yi: discretized_phi operator], [pi: momentum operator], [psi: square of the momentum operator]]\n",
    "\n",
    "]\n",
    "```\n",
    "`i` is the variable index as used in the Hamiltonian."
   ]
  },
  {
   "cell_type": "code",
   "execution_count": 31,
   "id": "chubby-speaking",
   "metadata": {},
   "outputs": [
    {
     "data": {
      "text/latex": [
       "$\\displaystyle - Ej \\cos{\\left(Φ_{1} - 1.0 θ_{1} \\right)} + 0.5 El θ_{1}^{2} + \\frac{0.5 Q_{1}^{2}}{\\frac{0.125}{Ecj} + \\frac{0.125}{Ec}}$"
      ],
      "text/plain": [
       "-Ej*cos(Φ1 - 1.0*θ1) + 0.5*El*θ1**2 + 0.5*Q1**2/(0.125/Ecj + 0.125/Ec)"
      ]
     },
     "execution_count": 31,
     "metadata": {},
     "output_type": "execute_result"
    }
   ],
   "source": [
    "fluxonium.H.expand()"
   ]
  },
  {
   "cell_type": "code",
   "execution_count": 32,
   "id": "solved-dylan",
   "metadata": {},
   "outputs": [
    {
     "data": {
      "text/plain": [
       "[[], [[], [], []], [[θ1], [Q1], [Qs1]]]"
      ]
     },
     "execution_count": 32,
     "metadata": {},
     "output_type": "execute_result"
    }
   ],
   "source": [
    "fluxonium.vars"
   ]
  },
  {
   "cell_type": "markdown",
   "id": "southern-channels",
   "metadata": {},
   "source": [
    "In this example, we can see that the code identifies the circuit to have one generalized flux (with index `1`) variable in the discretized phi basis. The paramater `vars` shows the operators generated by the code internally to calculate the eigenvalues. \n",
    "\n",
    "These operators can be analyzed using the follwing methods:"
   ]
  },
  {
   "cell_type": "code",
   "execution_count": 33,
   "id": "wooden-television",
   "metadata": {},
   "outputs": [
    {
     "data": {
      "text/plain": [
       "(<Figure size 720x360 with 3 Axes>, (<Axes3DSubplot:>, <AxesSubplot:>))"
      ]
     },
     "execution_count": 33,
     "metadata": {},
     "output_type": "execute_result"
    },
    {
     "data": {
      "image/png": "[encoded data removed]",
      "text/plain": [
       "<Figure size 720x360 with 3 Axes>"
      ]
     },
     "metadata": {
      "needs_background": "light"
     },
     "output_type": "display_data"
    }
   ],
   "source": [
    "fluxonium.plot_matrixelements(\"Qs1\")"
   ]
  },
  {
   "cell_type": "code",
   "execution_count": 34,
   "id": "armed-juice",
   "metadata": {
    "scrolled": false
   },
   "outputs": [
    {
     "data": {
      "application/vnd.jupyter.widget-view+json": {
       "model_id": "",
       "version_major": 2,
       "version_minor": 0
      },
      "text/plain": [
       "Spectral data:   0%|          | 0/9 [00:00<?, ?it/s]"
      ]
     },
     "metadata": {},
     "output_type": "display_data"
    },
    {
     "data": {
      "application/vnd.jupyter.widget-view+json": {
       "model_id": "",
       "version_major": 2,
       "version_minor": 0
      },
      "text/plain": [
       "  0%|          | 0/9 [00:00<?, ?it/s]"
      ]
     },
     "metadata": {},
     "output_type": "display_data"
    },
    {
     "data": {
      "text/plain": [
       "(<Figure size 432x288 with 1 Axes>,\n",
       " <AxesSubplot:xlabel='Ec', ylabel='matrix element'>)"
      ]
     },
     "execution_count": 34,
     "metadata": {},
     "output_type": "execute_result"
    },
    {
     "data": {
      "image/png": "[encoded data removed]",
      "text/plain": [
       "<Figure size 432x288 with 1 Axes>"
      ]
     },
     "metadata": {
      "needs_background": "light"
     },
     "output_type": "display_data"
    }
   ],
   "source": [
    "fluxonium.plot_matelem_vs_paramvals(\"θ1\", \"Ec\", range(1,10))"
   ]
  }
 ],
 "metadata": {
  "kernelspec": {
   "display_name": "Python 3 (ipykernel)",
   "language": "python",
   "name": "python3"
  },
  "language_info": {
   "codemirror_mode": {
    "name": "ipython",
    "version": 3
   },
   "file_extension": ".py",
   "mimetype": "text/x-python",
   "name": "python",
   "nbconvert_exporter": "python",
   "pygments_lexer": "ipython3",
   "version": "3.9.6"
  }
 },
 "nbformat": 4,
 "nbformat_minor": 5
}
